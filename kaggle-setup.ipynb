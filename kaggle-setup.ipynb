{
 "cells": [
  {
   "cell_type": "code",
   "execution_count": 1,
   "id": "d6f680e1",
   "metadata": {},
   "outputs": [
    {
     "name": "stdout",
     "output_type": "stream",
     "text": [
      "Requirement already satisfied: kaggle in c:\\users\\berai\\anaconda3\\lib\\site-packages (1.5.12)\n",
      "Requirement already satisfied: urllib3 in c:\\users\\berai\\anaconda3\\lib\\site-packages (from kaggle) (1.26.9)\n",
      "Requirement already satisfied: python-slugify in c:\\users\\berai\\anaconda3\\lib\\site-packages (from kaggle) (5.0.2)\n",
      "Requirement already satisfied: six>=1.10 in c:\\users\\berai\\anaconda3\\lib\\site-packages (from kaggle) (1.16.0)\n",
      "Requirement already satisfied: python-dateutil in c:\\users\\berai\\anaconda3\\lib\\site-packages (from kaggle) (2.8.2)\n",
      "Requirement already satisfied: requests in c:\\users\\berai\\anaconda3\\lib\\site-packages (from kaggle) (2.27.1)\n",
      "Requirement already satisfied: certifi in c:\\users\\berai\\anaconda3\\lib\\site-packages (from kaggle) (2021.10.8)\n",
      "Requirement already satisfied: tqdm in c:\\users\\berai\\anaconda3\\lib\\site-packages (from kaggle) (4.64.0)\n",
      "Requirement already satisfied: text-unidecode>=1.3 in c:\\users\\berai\\anaconda3\\lib\\site-packages (from python-slugify->kaggle) (1.3)\n",
      "Requirement already satisfied: idna<4,>=2.5 in c:\\users\\berai\\anaconda3\\lib\\site-packages (from requests->kaggle) (3.3)\n",
      "Requirement already satisfied: charset-normalizer~=2.0.0 in c:\\users\\berai\\anaconda3\\lib\\site-packages (from requests->kaggle) (2.0.4)\n",
      "Requirement already satisfied: colorama in c:\\users\\berai\\anaconda3\\lib\\site-packages (from tqdm->kaggle) (0.4.4)\n"
     ]
    }
   ],
   "source": [
    "!pip install kaggle"
   ]
  },
  {
   "cell_type": "code",
   "execution_count": 1,
   "id": "88a33a2e",
   "metadata": {},
   "outputs": [],
   "source": [
    "import numpy as np"
   ]
  },
  {
   "cell_type": "code",
   "execution_count": 2,
   "id": "1920f81c",
   "metadata": {},
   "outputs": [
    {
     "data": {
      "text/plain": [
       "'C:\\\\Users\\\\berai\\\\OneDrive\\\\Desktop\\\\DTC-ML'"
      ]
     },
     "execution_count": 2,
     "metadata": {},
     "output_type": "execute_result"
    }
   ],
   "source": [
    "pwd"
   ]
  },
  {
   "cell_type": "code",
   "execution_count": null,
   "id": "78020058",
   "metadata": {
    "scrolled": true
   },
   "outputs": [],
   "source": []
  },
  {
   "cell_type": "code",
   "execution_count": 3,
   "id": "76c894e9",
   "metadata": {},
   "outputs": [
    {
     "name": "stdout",
     "output_type": "stream",
     "text": [
      "ref                                                            title                                                size  lastUpdated          downloadCount  voteCount  usabilityRating  \n",
      "-------------------------------------------------------------  --------------------------------------------------  -----  -------------------  -------------  ---------  ---------------  \n",
      "iamsouravbanerjee/world-population-dataset                     World Population Dataset                             17KB  2022-08-31 11:20:04           3665        134  1.0              \n",
      "kaggleashwin/population-dataset                                World Population by Countries Dataset (1960-2021)    69KB  2022-08-31 05:30:26           1425         68  1.0              \n",
      "iamsouravbanerjee/house-rent-prediction-dataset                House Rent Prediction Dataset                        82KB  2022-08-20 13:49:03          10050        268  1.0              \n",
      "pantanjali/unemployment-dataset                                Unemployment dataset                                 17KB  2022-09-08 08:26:10            487         28  0.9411765        \n",
      "ariyoomotade/netflix-data-cleaning-analysis-and-visualization  Netflix Data: Cleaning, Analysis and Visualization  270KB  2022-08-26 09:25:43           2875         81  1.0              \n",
      "rohitmahulkar/online-retails-sale-dataset                      Online Retails Sale Dataset                           8MB  2022-08-25 18:04:52            643         21  0.88235295       \n",
      "deepcontractor/smoke-detection-dataset                         Smoke Detection Dataset                               2MB  2022-08-21 06:29:34           1733         64  1.0              \n",
      "estienneggx/spotify-unpopular-songs                            Spotify unpopular songs                             737KB  2022-09-04 22:10:41            741         34  1.0              \n",
      "evangower/chocolate-bar-ratings                                Chocolate Bar Ratings                                64KB  2022-09-06 15:37:56            331         30  1.0              \n",
      "sveta151/tiktok-popular-songs-2020                             TikTok popular songs 2020                            17KB  2022-08-22 10:49:13            392         21  0.9411765        \n",
      "arianazmoudeh/airbnbopendata                                   Airbnb Open Data                                     10MB  2022-08-01 15:58:10           4127        122  0.9705882        \n",
      "totoro29/imdb-movies                                           IMDB Movies                                         668KB  2022-08-22 13:43:25            504         26  0.9411765        \n",
      "samuelcortinhas/gdp-of-european-countries                      GDP of European countries                            795B  2022-09-01 13:15:51            291         22  1.0              \n",
      "advaypatil/youtube-statistics                                  Youtube Statistics                                    2MB  2022-08-26 02:03:19            910         37  1.0              \n",
      "sveta151/spotify-top-chart-songs-2022                          Spotify top chart songs 2022                         45KB  2022-09-05 07:59:27            526         30  1.0              \n",
      "sveta151/tiktok-popular-songs-2021                             TikTok popular songs 2021                            11KB  2022-08-22 11:02:34            930         35  1.0              \n",
      "yasirabdaali/corona-virus-covid19-us-counties                  Corona Virus Covid-19  US Counties                   75MB  2022-08-22 02:38:55            488         24  0.9411765        \n",
      "surajjha101/fortune-top-1000-companies-by-revenue-2022         Fortune Top 1000 Companies by Revenue 2022           37KB  2022-08-28 06:43:27            557         44  1.0              \n",
      "dansbecker/melbourne-housing-snapshot                          Melbourne Housing Snapshot                          451KB  2018-06-05 12:52:24          95037       1135  0.7058824        \n",
      "zwl1234/top-50-bestselling-novels-20092021-of-amazon           Top 50 Bestselling Novels 2009-2021 of Amazon        36KB  2022-08-29 15:50:47            761         26  1.0              \n"
     ]
    }
   ],
   "source": [
    "!kaggle datasets list"
   ]
  },
  {
   "cell_type": "code",
   "execution_count": 15,
   "id": "114ab710",
   "metadata": {},
   "outputs": [
    {
     "name": "stdout",
     "output_type": "stream",
     "text": [
      "Downloading cardataset.zip to C:\\Users\\berai\\OneDrive\\Desktop\\DTC-ML\n",
      "\n"
     ]
    },
    {
     "name": "stderr",
     "output_type": "stream",
     "text": [
      "\n",
      "  0%|          | 0.00/103k [00:00<?, ?B/s]\n",
      "100%|##########| 103k/103k [00:00<00:00, 1.91MB/s]\n"
     ]
    }
   ],
   "source": [
    "!kaggle datasets download -d CooperUnion/cardataset"
   ]
  },
  {
   "cell_type": "code",
   "execution_count": 16,
   "id": "c60e15db",
   "metadata": {},
   "outputs": [
    {
     "ename": "SyntaxError",
     "evalue": "invalid syntax (1281226039.py, line 1)",
     "output_type": "error",
     "traceback": [
      "\u001b[1;36m  Input \u001b[1;32mIn [16]\u001b[1;36m\u001b[0m\n\u001b[1;33m    kaggle datasets list -s 'korean drama'\u001b[0m\n\u001b[1;37m           ^\u001b[0m\n\u001b[1;31mSyntaxError\u001b[0m\u001b[1;31m:\u001b[0m invalid syntax\n"
     ]
    }
   ],
   "source": [
    "kaggle datasets list -s 'korean drama'"
   ]
  },
  {
   "cell_type": "code",
   "execution_count": 4,
   "id": "912f0069",
   "metadata": {},
   "outputs": [
    {
     "name": "stdout",
     "output_type": "stream",
     "text": [
      "ref                                                             title                                               size  lastUpdated          downloadCount  voteCount  usabilityRating  \n",
      "--------------------------------------------------------------  -------------------------------------------------  -----  -------------------  -------------  ---------  ---------------  \n",
      "iphigeniebera/korean-drama-list-about-740-unique-dramas         Korean drama list [about 1278 unique dramas]       556KB  2022-08-18 19:01:50            356         27  0.9411765        \n",
      "chanoncharuchinda/top-100-korean-drama-mydramalist              Top 100 Korean Drama (MyDramaList)                  29KB  2021-12-30 06:32:50           1834         49  1.0              \n",
      "prashant111/game-of-thrones                                     Game of Thrones                                     68KB  2020-03-13 05:57:38            245         70  0.64705884       \n",
      "victorsoeiro/rakuten-tv-dramas-and-movies                       Rakuten Viki TV Dramas and Movies                  684KB  2022-05-12 01:12:43            144         10  1.0              \n",
      "meenakshisajan/ultimate-korean-drama-list                       Ultimate Korean Drama List                          16KB  2022-07-25 11:34:55             44         15  0.5882353        \n",
      "kunalbhar/house-md-transcripts                                  House MD Transcripts                                 2MB  2022-02-08 10:22:25            247         39  1.0              \n",
      "kamilleangelasuayan/top-100-dramas-mydramalist                  Top 100 Dramas (MyDramaList)                         8KB  2021-03-16 05:25:09            118          5  0.9411765        \n",
      "nrkapri/rabindranath-tagore-online-variorum                     Rabindranath Tagore Online Variorum                173MB  2020-06-07 20:04:16             74         10  1.0              \n",
      "johnharshith/hollywood-theatrical-market-synopsis-1995-to-2021  Hollywood Theatrical Market Synopsis 1995 to 2021    6KB  2021-11-14 16:07:38          15045        559  0.9705882        \n",
      "swatitripathi/asian-dramas-mydramalist                          Asian Dramas (MyDramaList)                          74KB  2021-07-09 04:30:30             55          3  0.85294116       \n",
      "anshulmehtakaggl/sharktankindia                                 Shark-Tank-India                                     3KB  2022-02-06 16:48:15            710         65  1.0              \n",
      "nilimajauhari/amazon-prime-tv-shows                             Amazon Prime TV Shows                                7KB  2020-10-13 12:55:09           2641         56  1.0              \n",
      "anittasaju/top-500-dramas-from-mydramalist-reviewer-detail      Top 500 dramas from MyDramaList (+review details)  472KB  2022-08-10 01:48:19              5          1  1.0              \n",
      "kinnerakiran/popular-100-korean-drama-list                      Popular 100 Korean Drama List                       29KB  2022-06-28 09:00:39              7          5  0.4117647        \n",
      "daeyeopkim/korean-drama-data                                    korean drama data                                    6KB  2020-10-06 01:39:39            149          5  0.11764706       \n",
      "apu612/korean-drama                                             Korean Drama                                         5KB  2021-07-07 14:59:35             94          2  0.11764706       \n",
      "chanoncharuchinda/imdb-korean-tv-series                         IMDb Korean TV Series                                3MB  2021-12-19 03:33:04            477         15  1.0              \n",
      "mazenramadan/imdb-most-popular-films-and-series                 Imdb Most popular Films and series                 167KB  2021-10-27 14:23:09           2124         48  0.8235294        \n",
      "srivnaman/top-100-anime-animelist                               Top 100 Anime - AnimeList                            3KB  2022-06-18 10:02:08            173         16  1.0              \n",
      "varpit94/breaking-bad-tv-show-all-seasons-episodes-data         Breaking Bad TV show: All seasons, episodes data     6KB  2021-08-21 10:35:26            235         16  1.0              \n"
     ]
    }
   ],
   "source": [
    "!kaggle datasets list -s 'drama'"
   ]
  },
  {
   "cell_type": "code",
   "execution_count": 5,
   "id": "ec8986b5",
   "metadata": {},
   "outputs": [
    {
     "name": "stdout",
     "output_type": "stream",
     "text": [
      "ref                                                          title                                             size  lastUpdated          downloadCount  voteCount  usabilityRating  \n",
      "-----------------------------------------------------------  -----------------------------------------------  -----  -------------------  -------------  ---------  ---------------  \n",
      "iphigeniebera/korean-drama-list-about-740-unique-dramas      Korean drama list [about 1278 unique dramas]     556KB  2022-08-18 19:01:50            356         27  0.9411765        \n",
      "chanoncharuchinda/top-100-korean-drama-mydramalist           Top 100 Korean Drama (MyDramaList)                29KB  2021-12-30 06:32:50           1834         49  1.0              \n",
      "calebreigada/south-korean-pollution                          South Korean Pollution                             4MB  2022-03-03 13:23:11            738         34  1.0              \n",
      "bryanpark/korean-single-speaker-speech-dataset               Korean Single Speaker Speech Dataset               3GB  2020-03-15 08:56:42           8118        141  0.75             \n",
      "calebreigada/south-korean-lottery-numbers                    South Korean Lottery Numbers                      22KB  2022-02-27 05:16:41            509         34  1.0              \n",
      "chanoncharuchinda/imdb-korean-tv-series                      IMDb Korean TV Series                              3MB  2021-12-19 03:33:04            477         15  1.0              \n",
      "junsoopablo/korean-genome-and-epidemiology-study-koges       Korean Health Records                            230KB  2020-10-26 07:21:15            632         14  0.7352941        \n",
      "brainer3220/korean-real-estate-transaction-data              Korean Apartment Deal Data                        50MB  2022-03-29 13:16:26            832         20  0.9411765        \n",
      "b'jaepin/shopeeph-koreantop-clothing                           \\xf0\\x9f\\x8e\\x92 Shopee Philippines - Korean Inspired Clothing    3MB  2021-07-20 12:26:11           1205         30  0.88235295       '\n",
      "mattop/korean-baseball-pitching-data-1982-2021               Korean Baseball Pitching Data (1982 - 2021)       18KB  2022-08-15 01:03:38            191         34  0.9705882        \n",
      "jcacperalta/twice-korean-singles-lines                       TWICE Korean singles lyrics                       25KB  2022-09-05 03:36:49            117         11  1.0              \n",
      "rareloto/naver-dictionary-conversation-of-the-day            Korean - English Parallel Corpus                 324KB  2020-08-19 14:41:38            297          8  1.0              \n",
      "zldzmfoq12/korean-voice                                      korean_voice                                       5GB  2019-08-20 07:03:22            254          9  0.9375           \n",
      "ninetyninenewton/vkospi                                      Options in Korean Stock Market                    93KB  2021-01-11 07:35:42            318         10  0.9411765        \n",
      "usaf/korean-war-bombing-runs                                 Korean War Bombing Runs                          497KB  2017-09-13 19:22:29            408         12  0.8235294        \n",
      "bmofinnjake/naverwebtoon-datakorean                          Webtoon Dataset in Korean                        808KB  2022-06-15 08:10:00            117          8  1.0              \n",
      "odins0n/monthly-gold-prices                                  Monthly Gold Prices (1979-2021)                   54KB  2021-08-22 04:38:31           2541         85  1.0              \n",
      "gomjellie/kospi-price-data                                   Kospi Stock Price                                 42MB  2017-09-30 16:34:39            840         23  0.7058824        \n",
      "zarajamshaid/language-identification-datasst                 Language Identification dataset                    6MB  2018-12-19 18:12:23           2347         38  1.0              \n",
      "ninetyninenewton/kr3-korean-restaurant-reviews-with-ratings  KR3: Korean Restaurant Reviews with Ratings      142MB  2022-02-25 07:33:13             98         13  1.0              \n"
     ]
    }
   ],
   "source": [
    "!kaggle datasets list -s 'korean'"
   ]
  },
  {
   "cell_type": "code",
   "execution_count": 6,
   "id": "545d4e0b",
   "metadata": {},
   "outputs": [
    {
     "name": "stderr",
     "output_type": "stream",
     "text": [
      "'unzip' is not recognized as an internal or external command,\n",
      "operable program or batch file.\n"
     ]
    }
   ],
   "source": [
    "!unzip cardataset.zip"
   ]
  },
  {
   "cell_type": "code",
   "execution_count": 7,
   "id": "0b612e02",
   "metadata": {},
   "outputs": [
    {
     "name": "stdout",
     "output_type": "stream",
     "text": [
      " Volume in drive C is OS\n",
      " Volume Serial Number is 669B-16B7\n",
      "\n",
      " Directory of C:\\Users\\berai\\OneDrive\\Desktop\\DTC-ML\n",
      "\n",
      "09/05/2022  09:03 PM    <DIR>          .\n",
      "09/04/2022  08:24 PM    <DIR>          ..\n",
      "09/05/2022  08:17 PM    <DIR>          .ipynb_checkpoints\n",
      "09/05/2022  08:35 PM           105,561 cardataset.zip\n",
      "09/04/2022  08:25 PM    <DIR>          chapter-02-car-price\n",
      "09/20/2019  04:04 AM         1,475,504 data.csv\n",
      "09/05/2022  08:11 PM                69 kaggle.json\n",
      "09/05/2022  09:03 PM            20,297 kaggle-setup.ipynb\n",
      "               4 File(s)      1,601,431 bytes\n",
      "               4 Dir(s)  242,695,970,816 bytes free\n"
     ]
    }
   ],
   "source": [
    "ls"
   ]
  },
  {
   "cell_type": "code",
   "execution_count": 11,
   "id": "499517b8",
   "metadata": {},
   "outputs": [
    {
     "data": {
      "text/plain": [
       "'1.21.5'"
      ]
     },
     "execution_count": 11,
     "metadata": {},
     "output_type": "execute_result"
    }
   ],
   "source": [
    "np.__version__"
   ]
  },
  {
   "cell_type": "code",
   "execution_count": null,
   "id": "27a843a0",
   "metadata": {},
   "outputs": [],
   "source": []
  }
 ],
 "metadata": {
  "kernelspec": {
   "display_name": "Python 3 (ipykernel)",
   "language": "python",
   "name": "python3"
  },
  "language_info": {
   "codemirror_mode": {
    "name": "ipython",
    "version": 3
   },
   "file_extension": ".py",
   "mimetype": "text/x-python",
   "name": "python",
   "nbconvert_exporter": "python",
   "pygments_lexer": "ipython3",
   "version": "3.9.12"
  }
 },
 "nbformat": 4,
 "nbformat_minor": 5
}
