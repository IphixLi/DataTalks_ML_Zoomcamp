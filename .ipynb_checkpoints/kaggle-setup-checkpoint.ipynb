{
 "cells": [
  {
   "cell_type": "code",
   "execution_count": 1,
   "id": "d6f680e1",
   "metadata": {},
   "outputs": [
    {
     "name": "stdout",
     "output_type": "stream",
     "text": [
      "Requirement already satisfied: kaggle in c:\\users\\berai\\anaconda3\\lib\\site-packages (1.5.12)\n",
      "Requirement already satisfied: urllib3 in c:\\users\\berai\\anaconda3\\lib\\site-packages (from kaggle) (1.26.9)\n",
      "Requirement already satisfied: python-slugify in c:\\users\\berai\\anaconda3\\lib\\site-packages (from kaggle) (5.0.2)\n",
      "Requirement already satisfied: six>=1.10 in c:\\users\\berai\\anaconda3\\lib\\site-packages (from kaggle) (1.16.0)\n",
      "Requirement already satisfied: python-dateutil in c:\\users\\berai\\anaconda3\\lib\\site-packages (from kaggle) (2.8.2)\n",
      "Requirement already satisfied: requests in c:\\users\\berai\\anaconda3\\lib\\site-packages (from kaggle) (2.27.1)\n",
      "Requirement already satisfied: certifi in c:\\users\\berai\\anaconda3\\lib\\site-packages (from kaggle) (2021.10.8)\n",
      "Requirement already satisfied: tqdm in c:\\users\\berai\\anaconda3\\lib\\site-packages (from kaggle) (4.64.0)\n",
      "Requirement already satisfied: text-unidecode>=1.3 in c:\\users\\berai\\anaconda3\\lib\\site-packages (from python-slugify->kaggle) (1.3)\n",
      "Requirement already satisfied: idna<4,>=2.5 in c:\\users\\berai\\anaconda3\\lib\\site-packages (from requests->kaggle) (3.3)\n",
      "Requirement already satisfied: charset-normalizer~=2.0.0 in c:\\users\\berai\\anaconda3\\lib\\site-packages (from requests->kaggle) (2.0.4)\n",
      "Requirement already satisfied: colorama in c:\\users\\berai\\anaconda3\\lib\\site-packages (from tqdm->kaggle) (0.4.4)\n"
     ]
    }
   ],
   "source": [
    "!pip install kaggle"
   ]
  },
  {
   "cell_type": "code",
   "execution_count": null,
   "id": "88a33a2e",
   "metadata": {},
   "outputs": [],
   "source": []
  },
  {
   "cell_type": "code",
   "execution_count": null,
   "id": "69055f99",
   "metadata": {},
   "outputs": [],
   "source": []
  },
  {
   "cell_type": "code",
   "execution_count": null,
   "id": "e777c2fb",
   "metadata": {},
   "outputs": [],
   "source": []
  },
  {
   "cell_type": "code",
   "execution_count": 9,
   "id": "3242f891",
   "metadata": {},
   "outputs": [
    {
     "name": "stdout",
     "output_type": "stream",
     "text": [
      " Volume in drive C is OS\n",
      " Volume Serial Number is 669B-16B7\n",
      "\n",
      " Directory of C:\\Users\\berai\\OneDrive\\Desktop\\DTC-ML\n",
      "\n",
      "09/05/2022  08:20 PM    <DIR>          .\n",
      "09/04/2022  08:24 PM    <DIR>          ..\n",
      "09/05/2022  08:17 PM    <DIR>          .ipynb_checkpoints\n",
      "09/04/2022  08:25 PM    <DIR>          chapter-02-car-price\n",
      "09/05/2022  08:11 PM                69 kaggle.json\n",
      "09/05/2022  08:20 PM             4,451 kaggle-setup.ipynb\n",
      "               2 File(s)          4,520 bytes\n",
      "               4 Dir(s)  242,833,588,224 bytes free\n"
     ]
    }
   ],
   "source": []
  },
  {
   "cell_type": "code",
   "execution_count": 5,
   "id": "1920f81c",
   "metadata": {},
   "outputs": [
    {
     "data": {
      "text/plain": [
       "'C:\\\\Users\\\\berai\\\\OneDrive\\\\Desktop\\\\DTC-ML'"
      ]
     },
     "execution_count": 5,
     "metadata": {},
     "output_type": "execute_result"
    }
   ],
   "source": [
    "pwd"
   ]
  },
  {
   "cell_type": "code",
   "execution_count": 13,
   "id": "78020058",
   "metadata": {
    "scrolled": true
   },
   "outputs": [
    {
     "name": "stdout",
     "output_type": "stream",
     "text": [
      " Volume in drive C is OS\n",
      " Volume Serial Number is 669B-16B7\n",
      "\n",
      " Directory of C:\\Users\\berai\\OneDrive\\Desktop\\DTC-ML\n",
      "\n",
      "09/05/2022  08:22 PM    <DIR>          .\n",
      "09/04/2022  08:24 PM    <DIR>          ..\n",
      "09/05/2022  08:17 PM    <DIR>          .ipynb_checkpoints\n",
      "09/04/2022  08:25 PM    <DIR>          chapter-02-car-price\n",
      "09/05/2022  08:11 PM                69 kaggle.json\n",
      "09/05/2022  08:22 PM             4,623 kaggle-setup.ipynb\n",
      "               2 File(s)          4,692 bytes\n",
      "               4 Dir(s)  242,715,230,208 bytes free\n"
     ]
    }
   ],
   "source": []
  },
  {
   "cell_type": "code",
   "execution_count": 14,
   "id": "76c894e9",
   "metadata": {},
   "outputs": [
    {
     "name": "stdout",
     "output_type": "stream",
     "text": [
      "ref                                                            title                                                size  lastUpdated          downloadCount  voteCount  usabilityRating  \n",
      "-------------------------------------------------------------  --------------------------------------------------  -----  -------------------  -------------  ---------  ---------------  \n",
      "kaggleashwin/population-dataset                                World Population by Countries Dataset (1960-2021)    69KB  2022-08-31 05:30:26            780         35  1.0              \n",
      "iamsouravbanerjee/house-rent-prediction-dataset                House Rent Prediction Dataset                        82KB  2022-08-20 13:49:03           7363        212  1.0              \n",
      "iamsouravbanerjee/world-population-dataset                     World Population Dataset                             17KB  2022-08-31 11:20:04           1786         79  1.0              \n",
      "sveta151/tiktok-popular-songs-2021                             TikTok popular songs 2021                            11KB  2022-08-22 11:02:34            577         27  1.0              \n",
      "ariyoomotade/netflix-data-cleaning-analysis-and-visualization  Netflix Data: Cleaning, Analysis and Visualization  270KB  2022-08-26 09:25:43           2004         48  1.0              \n",
      "deepcontractor/mcdonalds-india-menu-nutrition-facts            McDonald's India : Menu Nutrition Dataset             5KB  2022-07-28 17:08:52           5318        181  0.9411765        \n",
      "arianazmoudeh/airbnbopendata                                   Airbnb Open Data                                     10MB  2022-08-01 15:58:10           3545        107  0.9705882        \n",
      "estienneggx/spotify-unpopular-songs                            Spotify unpopular songs                             737KB  2022-09-04 22:10:41            357         22  1.0              \n",
      "sveta151/tiktok-popular-songs-2019                             TikTok popular songs 2019                            45KB  2022-08-22 10:04:48            733         26  1.0              \n",
      "deepcontractor/smoke-detection-dataset                         Smoke Detection Dataset                               2MB  2022-08-21 06:29:34           1186         44  1.0              \n",
      "charanchandrasekaran/top-6-economies-in-the-world-by-gdp       Top 6 Economies in the world by GDP                  21KB  2022-08-26 05:57:26            445         25  0.9705882        \n",
      "timmayer/covid-news-articles-2020-2022                         COVID News Articles (2020 - 2022)                   889MB  2022-08-31 17:22:48            229         26  0.9705882        \n",
      "sveta151/tiktok-popular-songs-2022                             Tiktok popular songs 2022                            15KB  2022-08-22 11:20:57            891         41  1.0              \n",
      "dansbecker/melbourne-housing-snapshot                          Melbourne Housing Snapshot                          451KB  2018-06-05 12:52:24          94619       1130  0.7058824        \n",
      "tarundalal/100-richest-people-in-world                         100 Richest People In World                           3KB  2022-08-17 14:30:02           1060         49  1.0              \n",
      "reihanenamdari/breast-cancer                                   Breast Cancer                                        43KB  2022-08-08 19:25:55           1550         62  1.0              \n",
      "advaypatil/youtube-statistics                                  Youtube Statistics                                    2MB  2022-08-26 02:03:19            537         26  1.0              \n",
      "gauravtopre/bank-customer-churn-dataset                        Bank Customer Churn Dataset                         187KB  2022-08-30 15:01:34            325         29  1.0              \n",
      "infamouscoder/dataset-netflix-shows                            Dataset: NetFlix Shows                                1MB  2022-08-11 05:05:41           1676         64  1.0              \n",
      "sandeepmajumdar/airbnbnyccleaned                               Airbnb-NYC-Cleaned                                    7MB  2022-08-25 06:13:12            312         22  1.0              \n"
     ]
    }
   ],
   "source": [
    "!kaggle datasets list"
   ]
  },
  {
   "cell_type": "code",
   "execution_count": 15,
   "id": "114ab710",
   "metadata": {},
   "outputs": [
    {
     "name": "stdout",
     "output_type": "stream",
     "text": [
      "Downloading cardataset.zip to C:\\Users\\berai\\OneDrive\\Desktop\\DTC-ML\n",
      "\n"
     ]
    },
    {
     "name": "stderr",
     "output_type": "stream",
     "text": [
      "\n",
      "  0%|          | 0.00/103k [00:00<?, ?B/s]\n",
      "100%|##########| 103k/103k [00:00<00:00, 1.91MB/s]\n"
     ]
    }
   ],
   "source": [
    "!kaggle datasets download -d CooperUnion/cardataset"
   ]
  },
  {
   "cell_type": "code",
   "execution_count": 16,
   "id": "c60e15db",
   "metadata": {},
   "outputs": [
    {
     "ename": "SyntaxError",
     "evalue": "invalid syntax (1281226039.py, line 1)",
     "output_type": "error",
     "traceback": [
      "\u001b[1;36m  Input \u001b[1;32mIn [16]\u001b[1;36m\u001b[0m\n\u001b[1;33m    kaggle datasets list -s 'korean drama'\u001b[0m\n\u001b[1;37m           ^\u001b[0m\n\u001b[1;31mSyntaxError\u001b[0m\u001b[1;31m:\u001b[0m invalid syntax\n"
     ]
    }
   ],
   "source": [
    "kaggle datasets list -s 'korean drama'"
   ]
  },
  {
   "cell_type": "code",
   "execution_count": 17,
   "id": "912f0069",
   "metadata": {},
   "outputs": [
    {
     "name": "stderr",
     "output_type": "stream",
     "text": [
      "usage: kaggle [-h] [-v] {competitions,c,datasets,d,kernels,k,config} ...\n",
      "kaggle: error: unrecognized arguments: drama'\n"
     ]
    }
   ],
   "source": [
    "!kaggle datasets list -s 'korean drama'"
   ]
  },
  {
   "cell_type": "code",
   "execution_count": 18,
   "id": "ec8986b5",
   "metadata": {},
   "outputs": [
    {
     "name": "stdout",
     "output_type": "stream",
     "text": [
      "ref                                                          title                                             size  lastUpdated          downloadCount  voteCount  usabilityRating  \n",
      "-----------------------------------------------------------  -----------------------------------------------  -----  -------------------  -------------  ---------  ---------------  \n",
      "iphigeniebera/korean-drama-list-about-740-unique-dramas      Korean drama list [about 1278 unique dramas]     556KB  2022-08-18 19:01:50            308         26  0.9411765        \n",
      "chanoncharuchinda/top-100-korean-drama-mydramalist           Top 100 Korean Drama (MyDramaList)                29KB  2021-12-30 06:32:50           1820         49  1.0              \n",
      "calebreigada/south-korean-pollution                          South Korean Pollution                             4MB  2022-03-03 13:23:11            730         34  1.0              \n",
      "bryanpark/korean-single-speaker-speech-dataset               Korean Single Speaker Speech Dataset               3GB  2020-03-15 08:56:42           8091        140  0.75             \n",
      "calebreigada/south-korean-lottery-numbers                    South Korean Lottery Numbers                      22KB  2022-02-27 05:16:41            507         34  1.0              \n",
      "chanoncharuchinda/imdb-korean-tv-series                      IMDb Korean TV Series                              3MB  2021-12-19 03:33:04            471         15  1.0              \n",
      "junsoopablo/korean-genome-and-epidemiology-study-koges       Korean Health Records                            230KB  2020-10-26 07:21:15            632         14  0.7352941        \n",
      "brainer3220/korean-real-estate-transaction-data              Korean Apartment Deal Data                        50MB  2022-03-29 13:16:26            829         20  0.9411765        \n",
      "b'jaepin/shopeeph-koreantop-clothing                           \\xf0\\x9f\\x8e\\x92 Shopee Philippines - Korean Inspired Clothing    3MB  2021-07-20 12:26:11           1192         30  0.88235295       '\n",
      "mattop/korean-baseball-pitching-data-1982-2021               Korean Baseball Pitching Data (1982 - 2021)       18KB  2022-08-15 01:03:38            165         30  0.9705882        \n",
      "jcacperalta/twice-korean-singles-lines                       TWICE Korean singles lyrics                       25KB  2022-09-05 03:36:49            115         10  1.0              \n",
      "rareloto/naver-dictionary-conversation-of-the-day            Korean - English Parallel Corpus                 324KB  2020-08-19 14:41:38            295          8  1.0              \n",
      "zldzmfoq12/korean-voice                                      korean_voice                                       5GB  2019-08-20 07:03:22            254          9  0.9375           \n",
      "ninetyninenewton/vkospi                                      Options in Korean Stock Market                    93KB  2021-01-11 07:35:42            316         10  0.9411765        \n",
      "usaf/korean-war-bombing-runs                                 Korean War Bombing Runs                          497KB  2017-09-13 19:22:29            408         12  0.8235294        \n",
      "bmofinnjake/naverwebtoon-datakorean                          Webtoon Dataset in Korean                        808KB  2022-06-15 08:10:00            113          8  1.0              \n",
      "odins0n/monthly-gold-prices                                  Monthly Gold Prices (1979-2021)                   54KB  2021-08-22 04:38:31           2525         85  1.0              \n",
      "gomjellie/kospi-price-data                                   Kospi Stock Price                                 42MB  2017-09-30 16:34:39            840         23  0.7058824        \n",
      "zarajamshaid/language-identification-datasst                 Language Identification dataset                    6MB  2018-12-19 18:12:23           2328         38  1.0              \n",
      "ninetyninenewton/kr3-korean-restaurant-reviews-with-ratings  KR3: Korean Restaurant Reviews with Ratings      142MB  2022-02-25 07:33:13             97         13  1.0              \n"
     ]
    }
   ],
   "source": [
    "!kaggle datasets list -s 'korean'"
   ]
  },
  {
   "cell_type": "code",
   "execution_count": 23,
   "id": "545d4e0b",
   "metadata": {},
   "outputs": [
    {
     "name": "stderr",
     "output_type": "stream",
     "text": [
      "'unzip' is not recognized as an internal or external command,\n",
      "operable program or batch file.\n"
     ]
    }
   ],
   "source": [
    "!unzip cardataset.zip"
   ]
  },
  {
   "cell_type": "code",
   "execution_count": null,
   "id": "0b612e02",
   "metadata": {},
   "outputs": [],
   "source": []
  }
 ],
 "metadata": {
  "kernelspec": {
   "display_name": "Python 3 (ipykernel)",
   "language": "python",
   "name": "python3"
  },
  "language_info": {
   "codemirror_mode": {
    "name": "ipython",
    "version": 3
   },
   "file_extension": ".py",
   "mimetype": "text/x-python",
   "name": "python",
   "nbconvert_exporter": "python",
   "pygments_lexer": "ipython3",
   "version": "3.9.12"
  }
 },
 "nbformat": 4,
 "nbformat_minor": 5
}
